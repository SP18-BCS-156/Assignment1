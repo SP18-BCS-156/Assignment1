{
  "nbformat": 4,
  "nbformat_minor": 0,
  "metadata": {
    "colab": {
      "name": "ASSIGNMENT 1.ipynb",
      "provenance": [],
      "collapsed_sections": [],
      "authorship_tag": "ABX9TyOBakPKP161aO+VcPhmDnSF",
      "include_colab_link": true
    },
    "kernelspec": {
      "name": "python3",
      "display_name": "Python 3"
    },
    "language_info": {
      "name": "python"
    }
  },
  "cells": [
    {
      "cell_type": "markdown",
      "metadata": {
        "id": "view-in-github",
        "colab_type": "text"
      },
      "source": [
        "<a href=\"https://colab.research.google.com/github/SP18-BCS-156/Assignment1/blob/main/ASSIGNMENT_1.ipynb\" target=\"_parent\"><img src=\"https://colab.research.google.com/assets/colab-badge.svg\" alt=\"Open In Colab\"/></a>"
      ]
    },
    {
      "cell_type": "code",
      "metadata": {
        "id": "fhuBPOfWblMF"
      },
      "source": [
        "\n",
        "import numpy as np\n",
        "import matplotlib.pyplot as plt\n",
        "\n",
        "x = np.array([-40,0,40, 80,90, 100, 110, 120, 130, 140, 150, 160])\n",
        "y = np.array([0,80,160, 170, 180, 190, 200, 210, 220, 230, 240, 250])\n",
        "\n",
        "plt.figure(figsize=(10,10))\n",
        "\n",
        "plt.xlabel(\"X-Axis\")\n",
        "plt.ylabel(\"Y-Axis\")\n",
        "\n",
        "plt.plot(x,y)\n",
        "\n",
        "plt.grid()\n",
        "\n",
        "plt.show()"
      ],
      "execution_count": null,
      "outputs": []
    },
    {
      "cell_type": "code",
      "metadata": {
        "id": "KhCohAS4ds3h"
      },
      "source": [
        "xhat = np.array([])\n",
        "yhat = np.array([])\n",
        "\n",
        "xhat= xhat.astype(int)\n",
        "yhat= yhat.astype(int)\n",
        "\n",
        "for i in range(0,x.size):\n",
        "  xhat= np.append(xhat,(x[i]*1+y[i]*2))\n",
        "  yhat= np.append(yhat,(y[i]*1))\n",
        "\n",
        "\n",
        "plt.figure(figsize=(10,10))\n",
        "\n",
        "plt.xlabel(\"X-Axis\")\n",
        "plt.ylabel(\"Y-Axis\")\n",
        "\n",
        "plt.plot(x,y,'r')\n",
        "plt.plot(xhat,yhat)\n",
        "plt.grid()\n",
        "\n",
        "plt.show()"
      ],
      "execution_count": null,
      "outputs": []
    },
    {
      "cell_type": "code",
      "metadata": {
        "id": "LTb92dMjdwzq"
      },
      "source": [
        "M = np.array([x,y])\n",
        "T = np.array([[1,2],[0,1]])\n",
        "\n",
        "C = T.dot(M)\n",
        "\n",
        "plt.figure(figsize=(10,10))\n",
        "\n",
        "plt.xlabel(\"X-Axis\")\n",
        "plt.ylabel(\"Y-Axis\")\n",
        "\n",
        "plt.plot(x,y,'r')\n",
        "plt.plot(C[0],C[1])\n",
        "plt.grid()\n",
        "\n",
        "plt.show()"
      ],
      "execution_count": null,
      "outputs": []
    }
  ]
}